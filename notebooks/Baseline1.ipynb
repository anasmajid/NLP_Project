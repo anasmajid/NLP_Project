{
  "nbformat": 4,
  "nbformat_minor": 0,
  "metadata": {
    "colab": {
      "provenance": [],
      "collapsed_sections": []
    },
    "kernelspec": {
      "name": "python3",
      "display_name": "Python 3"
    },
    "language_info": {
      "name": "python"
    }
  },
  "cells": [
    {
      "cell_type": "code",
      "execution_count": null,
      "metadata": {
        "colab": {
          "base_uri": "https://localhost:8080/"
        },
        "id": "yHegz1lvD9A9",
        "outputId": "ff35ab09-a443-4a86-988e-a35a3f24bec4"
      },
      "outputs": [
        {
          "output_type": "stream",
          "name": "stdout",
          "text": [
            "Looking in indexes: https://pypi.org/simple, https://us-python.pkg.dev/colab-wheels/public/simple/\n",
            "Requirement already satisfied: requests in /usr/local/lib/python3.7/dist-packages (2.23.0)\n",
            "Requirement already satisfied: chardet<4,>=3.0.2 in /usr/local/lib/python3.7/dist-packages (from requests) (3.0.4)\n",
            "Requirement already satisfied: certifi>=2017.4.17 in /usr/local/lib/python3.7/dist-packages (from requests) (2022.9.24)\n",
            "Requirement already satisfied: urllib3!=1.25.0,!=1.25.1,<1.26,>=1.21.1 in /usr/local/lib/python3.7/dist-packages (from requests) (1.24.3)\n",
            "Requirement already satisfied: idna<3,>=2.5 in /usr/local/lib/python3.7/dist-packages (from requests) (2.10)\n"
          ]
        }
      ],
      "source": [
        "#Setting up\n",
        "!pip install requests\n",
        "\n",
        "import pandas as pd\n",
        "import numpy as np\n",
        "import math\n",
        "import random\n",
        "import requests\n",
        "import re\n",
        "\n",
        "random.seed(2022)\n",
        "np.random.seed(2022)\n",
        "\n",
        "SENTIC_UI_API = \"http://sentic.net/api/en/aL41u1Hf0mR.py\""
      ]
    },
    {
      "cell_type": "code",
      "source": [
        "#Baseline: Senticnet\n",
        "class APIcall:\n",
        "    def get_data(self, api, text):\n",
        "        parameters = {\"text\": text}\n",
        "        response = requests.get(f\"{api}\", parameters)\n",
        "        if response.status_code == 200:\n",
        "            # print(\"sucessfully fetched the data\")\n",
        "            # print(response.text)\n",
        "            return response.text\n",
        "        else:\n",
        "            print(f\"Hello, there's a {response.status_code} error with your request\")\n",
        "\n",
        "    def __init__(self):\n",
        "        test_text = \"senticnet is awesome\"\n",
        "        #self.get_data(api, test_text)"
      ],
      "metadata": {
        "id": "5C1HIZ4sEhXf"
      },
      "execution_count": null,
      "outputs": []
    },
    {
      "cell_type": "code",
      "source": [
        "api_call = APIcall()\n",
        "text = \"I am fed up with this assignment\"\n",
        "response = api_call.get_data(SENTIC_UI_API, text)\n",
        "temp = re.search(\"JustGage\\({id:'ui',title:'(.+?)',label:\", response)\n",
        "start = temp.start()\n",
        "start = start + 25\n",
        "finish = start + 7\n",
        "\n",
        "extracted_polarity = response[start:finish]\n",
        "print(extracted_polarity)"
      ],
      "metadata": {
        "colab": {
          "base_uri": "https://localhost:8080/"
        },
        "id": "AjdUKzTtEqGA",
        "outputId": "c0517618-010e-476f-e300-beaffff90f10"
      },
      "execution_count": null,
      "outputs": [
        {
          "output_type": "stream",
          "name": "stdout",
          "text": [
            "POSITIV\n"
          ]
        }
      ]
    },
    {
      "cell_type": "code",
      "source": [
        "#Read dataset\n",
        "penn_df = pd.read_csv('PennsylvaniaMidterms11Aug11Oct2.csv')\n",
        "penn_df.head()"
      ],
      "metadata": {
        "id": "CIH-Z70mEv3m"
      },
      "execution_count": null,
      "outputs": []
    },
    {
      "cell_type": "code",
      "source": [
        "def extract_polarity_senticnet(text_list):\n",
        "    result_list = []\n",
        "    i=0\n",
        "    for text in text_list: \n",
        "        response = api_call.get_data(SENTIC_UI_API, text)\n",
        "        temp = re.search(\"JustGage\\({id:'ui',title:'(.+?)',label:\", response)\n",
        "        start = temp.start()\n",
        "        start = start + 25\n",
        "        finish = start + 7\n",
        "        extracted_polarity = response[start:finish]\n",
        "        result_list.append(extracted_polarity)\n",
        "        i += 1\n",
        "\n",
        "    return result_list\n"
      ],
      "metadata": {
        "id": "DRL8HO-iEy4-"
      },
      "execution_count": null,
      "outputs": []
    },
    {
      "cell_type": "code",
      "source": [
        "penn_df_sentic = penn_df.iloc[:1000]\n",
        "content_list = penn_df_sentic['Content'].tolist()\n",
        "result_list = extract_polarity_senticnet(content_list)\n",
        "penn_df_sentic['polarity'] = result_list\n",
        "penn_df_sentic.head()"
      ],
      "metadata": {
        "id": "kb9HiBLIE1S2"
      },
      "execution_count": null,
      "outputs": []
    },
    {
      "cell_type": "code",
      "source": [
        "penn_df_sentic['polarity'].describe()"
      ],
      "metadata": {
        "id": "t_l5q4xFE3cn"
      },
      "execution_count": null,
      "outputs": []
    },
    {
      "cell_type": "code",
      "source": [],
      "metadata": {
        "id": "vWM0YWJoE6K2"
      },
      "execution_count": null,
      "outputs": []
    }
  ]
}